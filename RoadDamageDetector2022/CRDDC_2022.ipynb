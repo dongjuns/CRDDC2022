{
 "cells": [
  {
   "cell_type": "markdown",
   "metadata": {},
   "source": [
    "# 1. Dataset\n",
    "\n",
    "Follow up all the steps for preparing or just use this prepared 'RDD' dataset and directly go to the 'train' chapter. (google drive link)\n",
    "\n",
    "(1) without image patches, only original country's images.    \n",
    "RDD2022_all_countries\n",
    "\n",
    "(2) if you want to use the image patches together, download and prepare these files.     \n",
    "Japan_640.tar.gz, Norway_640.tar.gz, Norway_1024.tar.gz\n",
    "\n",
    "And in the google drive link, 'RDD' directory has (1) and (2) both.\n",
    "\n",
    "(3) You need to prepare the 'RDD_test' directory for submition the final prediction file.    \n",
    "It can be created by following the script, but also be downloaded by this link.    (RDD_test_link)"
   ]
  },
  {
   "cell_type": "markdown",
   "metadata": {},
   "source": [
    "# Dataset downloading\n",
    "Download the dataset for training and testing the object detector."
   ]
  },
  {
   "cell_type": "code",
   "execution_count": 1,
   "metadata": {},
   "outputs": [
    {
     "name": "stdout",
     "output_type": "stream",
     "text": [
      "/home/june/RoadDamageDetector\n"
     ]
    }
   ],
   "source": [
    "#%cd GRDDC2022/RoadDamageDetector2022\n",
    "\n",
    "!pwd"
   ]
  },
  {
   "cell_type": "code",
   "execution_count": null,
   "metadata": {},
   "outputs": [],
   "source": [
    "!wget https://bigdatacup.s3.ap-northeast-1.amazonaws.com/2022/CRDDC2022/RDD2022/RDD2022.zip\n",
    "!unzip RDD2022.zip"
   ]
  },
  {
   "cell_type": "code",
   "execution_count": null,
   "metadata": {},
   "outputs": [],
   "source": [
    "!cd RDD2022_all_countries\n",
    "\n",
    "!unzip China_Drone.zip\n",
    "!unzip China_MotorBike.zip\n",
    "!unzip Czech.zip\n",
    "!unzip India.zip\n",
    "!unzip Japan.zip\n",
    "!unzip Norway.zip\n",
    "!unzip United_States.zip"
   ]
  },
  {
   "cell_type": "code",
   "execution_count": null,
   "metadata": {},
   "outputs": [],
   "source": [
    "!cd .."
   ]
  },
  {
   "cell_type": "code",
   "execution_count": 2,
   "metadata": {},
   "outputs": [],
   "source": [
    "# !wget RDD2022_all_countries.tar.gz\n",
    "# !tar xzvf RDD2022_all_countries\n",
    "\n",
    "# !wget RDD.tar.gz\n",
    "# !tar xzvf RDD\n",
    "\n",
    "# !wget RDD_test.tar.gz\n",
    "# !tar xzvf RDD_test"
   ]
  },
  {
   "cell_type": "markdown",
   "metadata": {},
   "source": [
    "# Dataset pre-processing\n",
    "Remove the useless labels in the dataset."
   ]
  },
  {
   "cell_type": "code",
   "execution_count": 6,
   "metadata": {},
   "outputs": [
    {
     "name": "stdout",
     "output_type": "stream",
     "text": [
      "[Errno 2] No such file or directory: 'RDD2022_all_countries'\n",
      "/home/june/RoadDamageDetector/train\n"
     ]
    }
   ],
   "source": [
    "# In the GRDDC2022/RoadDamageDetector2022\n",
    "\n",
    "%cd RDD2022_all_countries\n",
    "\n",
    "from sklearn.model_selection import train_test_split\n",
    "\n",
    "import os\n",
    "import xml.etree.ElementTree as ET\n",
    "from shutil import copyfile\n",
    "import argparse\n",
    "from pathlib import Path\n",
    "import random\n",
    "\n",
    "#!tree -d"
   ]
  },
  {
   "cell_type": "markdown",
   "metadata": {},
   "source": [
    "- New directory will be created.    \n",
    "new_countryName\n",
    "                /Annoatations\n",
    "                /JPEGImages "
   ]
  },
  {
   "cell_type": "code",
   "execution_count": 31,
   "metadata": {},
   "outputs": [],
   "source": [
    "os.getcwd()\n",
    "\n",
    "# for original countries\n",
    "countries = [\"China_Drone\", \"China_MotorBike\", \"Czech\", \"India\", \"Japan\", \"Norway\", \"United_States\"]\n",
    "\n",
    "# for image patches\n",
    "#countries = [\"Norway_640\", \"Japan_640\", \"Norway_1024\"]\n",
    "\n",
    "\n",
    "labels = [\"D00\", \"D10\", \"D20\", \"D40\"]\n",
    "\n",
    "for country in countries:\n",
    "    annoFiles = os.listdir(os.path.join(os.getcwd(), country+\"/train/annotations/xmls/\"))\n",
    "    jpgFiles = os.listdir(os.path.join(os.getcwd(), country+\"/train/images/\"))\n",
    "    \n",
    "    newCountry = \"new_\"+country\n",
    "    Path(newCountry+\"/Annotations\").mkdir(parents=True, exist_ok=True)\n",
    "    Path(newCountry+\"/JPEGImages\").mkdir(parents=True, exist_ok=True)\n",
    "    \n",
    "    for annoFile in annoFiles:\n",
    "        tree = ET.parse(os.path.join(os.getcwd()+\"/\"+country+\"/train/annotations/xmls/\", annoFile))\n",
    "        root = tree.getroot()\n",
    "        for obj in root.findall(\"object\"):\n",
    "            a = obj.find(\"name\").text\n",
    "            if a not in labels:\n",
    "                root.remove(obj)\n",
    "            \n",
    "        if len(root.findall(\"object\")) > 0:\n",
    "            tree.write(newCountry+\"/Annotations/\"+annoFile)\n",
    "            copyfile(os.path.join(country+\"/train/images/\", annoFile.split(\".\")[0])+\".jpg\", newCountry+\"/JPEGImages/\"+annoFile.split(\".\")[0]+\".jpg\")\n",
    "        else:\n",
    "            print(f'{annoFile} no class file')\n",
    "            continue"
   ]
  },
  {
   "cell_type": "markdown",
   "metadata": {},
   "source": [
    "- cp all new_countryName/Annotations & JPEGImages into one directory: new_train/Annotations & JPEGImages"
   ]
  },
  {
   "cell_type": "code",
   "execution_count": 32,
   "metadata": {},
   "outputs": [
    {
     "data": {
      "text/plain": [
       "'/home/june/RoadDamageDetector'"
      ]
     },
     "execution_count": 32,
     "metadata": {},
     "output_type": "execute_result"
    }
   ],
   "source": [
    "%pwd"
   ]
  },
  {
   "cell_type": "code",
   "execution_count": 35,
   "metadata": {},
   "outputs": [],
   "source": [
    "# Copy them into the one directory for chaning to yolo format\n",
    "\n",
    "Path(\"new_train/Annotations\").mkdir(parents=True, exist_ok=True)\n",
    "Path(\"new_train/JPEGImages\").mkdir(parents=True, exist_ok=True)\n",
    "\n",
    "!cp new_China_Drone/Annotations/*.xml new_train/Annotations/\n",
    "!cp new_China_MotorBike/Annotations/*.xml new_train/Annotations/\n",
    "!cp new_Czech/Annotations/*.xml new_train/Annotations/\n",
    "!cp new_India/Annotations/*.xml new_train/Annotations/\n",
    "!cp new_Japan/Annotations/*.xml new_train/Annotations/\n",
    "# !cp new_Japan_640/Annotations/*.xml new_train/Annotations/\n",
    "!cp new_Norway/Annotations/*.xml new_train/Annotations/\n",
    "# !cp new_Norway_640/Annotations/*.xml new_train/Annotations/\n",
    "# !cp new_Norway_1024/Annotations/*.xml new_train/Annotations/\n",
    "!cp new_United_States/Annotations/*.xml new_train/Annotations/\n",
    "\n",
    "!cp new_China_Drone/JPEGImages/*.jpg new_train/JPEGImages/\n",
    "!cp new_China_MotorBike/JPEGImages/*.jpg new_train/JPEGImages/\n",
    "!cp new_Czech/JPEGImages/*.jpg new_train/JPEGImages/\n",
    "!cp new_India/JPEGImages/*.jpg new_train/JPEGImages/\n",
    "!cp new_Japan/JPEGImages/*.jpg new_train/JPEGImages/\n",
    "# !cp new_Japan_640/JPEGImages/*.jpg new_train/JPEGImages/\n",
    "!cp new_Norway/JPEGImages/*.jpg new_train/JPEGImages/\n",
    "# !cp new_Norway_640/JPEGImages/*.jpg new_train/JPEGImages/\n",
    "# !cp new_Norway_1024/JPEGImages/*.jpg new_train/JPEGImages/\n",
    "!cp new_United_States/JPEGImages/*.jpg new_train/JPEGImages/"
   ]
  },
  {
   "cell_type": "code",
   "execution_count": 14,
   "metadata": {},
   "outputs": [],
   "source": [
    "# for image patches\n",
    "# !cp new_Japan_640/Annotations/*.xml new_train/Annotations/\n",
    "# !cp new_Norway_640/Annotations/*.xml new_train/Annotations/\n",
    "# !cp new_Norway_1024/Annotations/*.xml new_train/Annotations/\n",
    "\n",
    "# !cp new_Japan_640/JPEGImages/*.jpg new_train/JPEGImages/\n",
    "# !cp new_Norway_640/JPEGImages/*.jpg new_train/JPEGImages/\n",
    "# !cp new_Norway_1024/JPEGImages/*.jpg new_train/JPEGImages/"
   ]
  },
  {
   "cell_type": "markdown",
   "metadata": {},
   "source": [
    "- Copy all country/test/ into one directory: new_train/test/"
   ]
  },
  {
   "cell_type": "code",
   "execution_count": 20,
   "metadata": {},
   "outputs": [],
   "source": [
    "Path(\"RDD_test\").mkdir(parents=True, exist_ok=True)\n",
    "\n",
    "#!cp China_Drone/test/images/*.jpg RDD_test/\n",
    "!cp China_MotorBike/test/images/*.jpg RDD_test/\n",
    "!cp Czech/test/images/*.jpg RDD_test/\n",
    "!cp India/test/images/*.jpg RDD_test/\n",
    "!cp Japan/test/images/*.jpg RDD_test/\n",
    "!cp Norway/test/images/*.jpg RDD_test/\n",
    "!cp United_States/test/images/*.jpg RDD_test/"
   ]
  },
  {
   "cell_type": "markdown",
   "metadata": {},
   "source": [
    "# Transform to YOLO format from VOC xml"
   ]
  },
  {
   "cell_type": "code",
   "execution_count": 25,
   "metadata": {},
   "outputs": [
    {
     "data": {
      "text/plain": [
       "'/home/june/RoadDamageDetector'"
      ]
     },
     "execution_count": 25,
     "metadata": {},
     "output_type": "execute_result"
    }
   ],
   "source": [
    "%pwd"
   ]
  },
  {
   "cell_type": "code",
   "execution_count": 36,
   "metadata": {},
   "outputs": [],
   "source": [
    "annoFiles = os.listdir(os.path.join(os.getcwd(), \"new_train/Annotations/\"))\n",
    "yoloFile = open(\"./xml2yolo_damage.txt\", \"w\")\n",
    "for i in range(len(annoFiles)):\n",
    "    yoloFile.writelines(os.getcwd() + \"/new_train/Annotations/\" + annoFiles[i] + \"\\n\")\n",
    "\n",
    "yoloFile.close()"
   ]
  },
  {
   "cell_type": "code",
   "execution_count": null,
   "metadata": {},
   "outputs": [],
   "source": [
    "!python xml2yolo.py --input-file xml2yolo_damage.txt"
   ]
  },
  {
   "cell_type": "markdown",
   "metadata": {},
   "source": [
    "- Move all jpg & txt files -> into the one directory: 'RDD' (Road Damage Dataset)"
   ]
  },
  {
   "cell_type": "code",
   "execution_count": 38,
   "metadata": {},
   "outputs": [
    {
     "name": "stdout",
     "output_type": "stream",
     "text": [
      "/bin/bash: /bin/cp: Argument list too long\n",
      "/bin/bash: /bin/cp: Argument list too long\n"
     ]
    }
   ],
   "source": [
    "Path(\"RDD\").mkdir(parents=True, exist_ok=True)\n",
    "\n",
    "# !cp new_train/JPEGImages/*.jpg RDD/\n",
    "# !cp new_train/labels/*.txt RDD/"
   ]
  },
  {
   "cell_type": "markdown",
   "metadata": {},
   "source": [
    "- 'cp' issue with too many files, thus use 'find'."
   ]
  },
  {
   "cell_type": "code",
   "execution_count": 41,
   "metadata": {},
   "outputs": [],
   "source": [
    "Path(\"RDD\").mkdir(parents=True, exist_ok=True)\n",
    "\n",
    "!find ./new_train/JPEGImages/ -name \"*.jpg\" -exec cp {} ./RDD/ \\;\n",
    "!find ./new_train/labels/ -name \"*.txt\" -exec cp {} ./RDD/ \\;"
   ]
  },
  {
   "cell_type": "markdown",
   "metadata": {},
   "source": [
    "# Split the dataset for training the dataset\n",
    "Split the dataset to train dataset and validation dataset."
   ]
  },
  {
   "cell_type": "code",
   "execution_count": 19,
   "metadata": {},
   "outputs": [
    {
     "name": "stdout",
     "output_type": "stream",
     "text": [
      "/home/june/RoadDamageDetector\n"
     ]
    }
   ],
   "source": [
    "!pwd"
   ]
  },
  {
   "cell_type": "code",
   "execution_count": 7,
   "metadata": {},
   "outputs": [
    {
     "name": "stdout",
     "output_type": "stream",
     "text": [
      "\u001b[01;34m.\u001b[00m\n",
      "└── \u001b[01;34mnew_train\u001b[00m\n",
      "    ├── \u001b[01;34mAnnotations\u001b[00m\n",
      "    ├── \u001b[01;34mJPEGImages\u001b[00m\n",
      "    └── \u001b[01;34mlabels\u001b[00m\n",
      "\n",
      "4 directories\n"
     ]
    }
   ],
   "source": [
    "# In the train directory\n",
    "\n",
    "!tree -d"
   ]
  },
  {
   "cell_type": "markdown",
   "metadata": {},
   "source": [
    "- Without image patches, only original country images."
   ]
  },
  {
   "cell_type": "code",
   "execution_count": 26,
   "metadata": {},
   "outputs": [
    {
     "name": "stdout",
     "output_type": "stream",
     "text": [
      "4805\n",
      "3844 961\n"
     ]
    }
   ],
   "source": [
    "# single country dataset, example.\n",
    "new_United_States_annoFiles = os.listdir(os.path.join(os.getcwd(), \"new_train/labels/\"))\n",
    "print(len(new_United_States_annoFiles))\n",
    "\n",
    "United_States_train, United_States_valid = train_test_split(new_United_States_annoFiles, test_size=0.2, random_state=42)\n",
    "print(len(United_States_train), len(United_States_valid))\n",
    "\n",
    "file1 = open(\"US_train.txt\", \"w\")\n",
    "for i in range(len(United_States_train)):\n",
    "    file1.writelines('../RoadDamageDetector2022/RDD/' + United_States_train[i].split(\".\")[0] + '.jpg' + \"\\n\")\n",
    "\n",
    "file1.close()\n",
    "\n",
    "file2 = open(\"US_valid.txt\", \"w\")\n",
    "for i in range(len(United_States_valid)):\n",
    "    file2.writelines('../RoadDamageDetector2022/RDD/' + United_States_valid[i].split(\".\")[0] + '.jpg' + \"\\n\")\n",
    "    \n",
    "file2.close()"
   ]
  },
  {
   "cell_type": "markdown",
   "metadata": {},
   "source": [
    "- With image patches"
   ]
  },
  {
   "cell_type": "code",
   "execution_count": 42,
   "metadata": {},
   "outputs": [
    {
     "name": "stdout",
     "output_type": "stream",
     "text": [
      "1919\n",
      "1934\n",
      "1072\n",
      "3223\n",
      "7900\n",
      "515\n",
      "2914\n",
      "16933\n",
      "31218\n",
      "4805\n"
     ]
    }
   ],
   "source": [
    "# 15 % split for valid5\n",
    "\n",
    "new_China_1_annoFiles = os.listdir(os.path.join(os.getcwd(), \"new_China_Drone/JPEGImages/\"))\n",
    "print(len(new_China_1_annoFiles))\n",
    "\n",
    "new_China_2_annoFiles = os.listdir(os.path.join(os.getcwd(), \"new_China_MotorBike/JPEGImages/\"))\n",
    "print(len(new_China_2_annoFiles))\n",
    "\n",
    "new_Czech_annoFiles = os.listdir(os.path.join(os.getcwd(), \"new_Czech/JPEGImages/\"))\n",
    "print(len(new_Czech_annoFiles))\n",
    "\n",
    "new_India_annoFiles = os.listdir(os.path.join(os.getcwd(), \"new_India/JPEGImages/\"))\n",
    "print(len(new_India_annoFiles))\n",
    "\n",
    "new_Japan_annoFiles = os.listdir(os.path.join(os.getcwd(), \"new_Japan/JPEGImages/\"))\n",
    "print(len(new_Japan_annoFiles))\n",
    "\n",
    "new_Japan_640_annoFiles = os.listdir(os.path.join(os.getcwd(), \"new_Japan_640/JPEGImages/\"))\n",
    "print(len(new_Japan_640_annoFiles))\n",
    "\n",
    "new_Norway_annoFiles = os.listdir(os.path.join(os.getcwd(), \"new_Norway/JPEGImages/\"))\n",
    "print(len(new_Norway_annoFiles))\n",
    "\n",
    "new_Norway_640_annoFiles = os.listdir(os.path.join(os.getcwd(), \"new_Norway_640/JPEGImages/\"))\n",
    "print(len(new_Norway_640_annoFiles))\n",
    "\n",
    "new_Norway_1024_annoFiles = os.listdir(os.path.join(os.getcwd(), \"new_Norway_1024/JPEGImages/\"))\n",
    "print(len(new_Norway_1024_annoFiles))\n",
    "\n",
    "new_US_annoFiles = os.listdir(os.path.join(os.getcwd(), \"new_United_States/JPEGImages/\"))\n",
    "print(len(new_US_annoFiles))\n",
    "\n",
    "lenOfChina1 = len(new_China_1_annoFiles)\n",
    "lenOfChina2 = len(new_China_2_annoFiles)\n",
    "lenOfCzech = len(new_Czech_annoFiles)\n",
    "lenOfIndia = len(new_India_annoFiles)\n",
    "lenOfJapan = len(new_Japan_annoFiles)\n",
    "lenOfJapan640 = len(new_Japan_640_annoFiles)\n",
    "lenOfNorway = len(new_Norway_annoFiles)\n",
    "lenOfNorway640 = len(new_Norway_640_annoFiles)\n",
    "lenOfNorway1024 = len(new_Norway_1024_annoFiles)\n",
    "lenOfUS = len(new_US_annoFiles)\n",
    "\n",
    "\n",
    "China_1_train, China_1_valid = new_China_1_annoFiles[:int(-lenOfChina1*0.15)], new_China_1_annoFiles[int(-lenOfChina1*0.15):]\n",
    "\n",
    "China_2_train, China_2_valid = new_China_2_annoFiles[:int(-lenOfChina2*0.15)], new_China_2_annoFiles[int(-lenOfChina2*0.15):]\n",
    "\n",
    "Czech_train, Czech_valid = new_Czech_annoFiles[:int(-lenOfCzech*0.15)], new_Czech_annoFiles[int(-lenOfCzech*0.15):]\n",
    "\n",
    "India_train, India_valid = new_India_annoFiles[:int(-lenOfIndia*0.15)], new_India_annoFiles[int(-lenOfIndia*0.15):]\n",
    "\n",
    "Japan_train, Japan_valid = new_Japan_annoFiles[:int(-lenOfJapan*0.15)], new_Japan_annoFiles[int(-lenOfJapan*0.15):]\n",
    "\n",
    "Japan_640_train, Japan_640_valid = new_Japan_640_annoFiles[:int(-lenOfJapan640*0.15)], new_Japan_640_annoFiles[int(-lenOfJapan640*0.15):]\n",
    "\n",
    "Norway_train, Norway_valid = new_Norway_annoFiles[:int(-lenOfNorway640*0.15)], new_Norway_annoFiles[int(-lenOfNorway*0.15):]\n",
    "\n",
    "Norway_640_train, Norway_640_valid = new_Norway_640_annoFiles[:int(-lenOfNorway640*0.15)], new_Norway_640_annoFiles[int(-lenOfNorway640*0.15):]\n",
    "\n",
    "Norway_1024_train, Norway_1024_valid = new_Norway_1024_annoFiles[:int(-lenOfNorway1024*0.15)], new_Norway_1024_annoFiles[int(-lenOfNorway1024*0.15):]\n",
    "\n",
    "US_train, US_valid = new_US_annoFiles[:int(-lenOfUS*0.15)], new_US_annoFiles[int(-lenOfUS*0.15):]"
   ]
  },
  {
   "cell_type": "code",
   "execution_count": 20,
   "metadata": {},
   "outputs": [
    {
     "name": "stdout",
     "output_type": "stream",
     "text": [
      "1632 287\n",
      "1644 290\n",
      "912 160\n",
      "2740 483\n",
      "6715 1185\n",
      "6715 1185\n",
      "375 437\n",
      "14394 2539\n",
      "4085 720\n"
     ]
    }
   ],
   "source": [
    "print(len(China_1_train), len(China_1_valid))\n",
    "\n",
    "\n",
    "print(len(China_2_train), len(China_2_valid))\n",
    "\n",
    "\n",
    "print(len(Czech_train), len(Czech_valid))\n",
    "\n",
    "\n",
    "print(len(India_train), len(India_valid))\n",
    "\n",
    "\n",
    "print(len(Japan_train), len(Japan_valid))\n",
    "\n",
    "\n",
    "print(len(Japan_train), len(Japan_valid))\n",
    "\n",
    "\n",
    "print(len(Norway_train), len(Norway_valid))\n",
    "\n",
    "\n",
    "print(len(Norway_640_train), len(Norway_640_valid))\n",
    "\n",
    "print(len(Norway_1024_train), len(Norway_1024_valid))\n",
    "\n",
    "print(len(US_train), len(US_valid))"
   ]
  },
  {
   "cell_type": "code",
   "execution_count": 43,
   "metadata": {},
   "outputs": [],
   "source": [
    "# mix source training dataset for valid5\n",
    "\n",
    "#all_train = new_China_1_annoFiles + new_China_2_annoFiles + new_Czech_annoFiles + new_India_annoFiles + new_Japan_annoFiles + new_Japan_640_annoFiles + new_Norway_annoFiles + new_Norway_640_annoFiles + new_US_annoFiles\n",
    "#random.shuffle(CzInJa_train)\n",
    "all_train = China_1_train + China_2_train + Czech_train + India_train + Japan_train + Japan_640_train + Norway_train + Norway_640_train +  Norway_1024_train + US_train\n",
    "\n",
    "all_valid = China_1_valid + China_2_valid + Czech_valid + India_valid + Japan_valid + Japan_640_valid + Norway_valid + Norway_640_valid + Norway_1024_valid + US_valid\n",
    "\n",
    "\n",
    "\n",
    "file1 = open(\"./all_train_640_1024_15_5.txt\", \"w\")\n",
    "for i in range(len(all_train)):\n",
    "    file1.writelines('../RoadDamageDetector2022/RDD/' + all_train[i] + \"\\n\")\n",
    "\n",
    "file1.close()\n",
    "\n",
    "file2 = open(\"./all_valid_640_1024_15_5.txt\", \"w\")\n",
    "for i in range(len(all_valid)):\n",
    "    file2.writelines('../RoadDamageDetector2022/RDD/' + all_valid[i] + \"\\n\")\n",
    "\n",
    "file2.close()"
   ]
  },
  {
   "cell_type": "markdown",
   "metadata": {
    "colab_type": "text",
    "id": "N3qM6T0W53gh"
   },
   "source": [
    "# 2. Train\n",
    "I did various experiments, and could get some good models.    \n",
    "This is just an example, there were many mixed dataset,    \n",
    "and failed weight files, too.\n",
    "\n",
    "We used YOLOv5x P5 and P6 models.\n",
    "thus you need to change some settings.\n",
    "(1) data.yaml, (2) hyp.yaml, (3) model.cfg    \n",
    "\n",
    "and download a pre-trained weight of IMSC (GRDDC 2020 winner). (https://github.com/USC-InfoLab/rddc2020)"
   ]
  },
  {
   "cell_type": "code",
   "execution_count": null,
   "metadata": {},
   "outputs": [],
   "source": [
    "!cd ../yolov5"
   ]
  },
  {
   "cell_type": "code",
   "execution_count": null,
   "metadata": {},
   "outputs": [],
   "source": [
    "# for YOLOv5x P5 model\n",
    "!python train.py --img 640 --batch-size 32 --epochs 200 --data data/road.yaml --cfg models/yolov5x_road.yaml --weights last_95_640_16.pt --hyp data/hyps/hyp.scratch.road.yaml --name x_ --workers 8 --cache\n",
    "\n",
    "# for YOLOv5x P6 model\n",
    "!python train.py --img 640 --batch-size 16 --epochs 200 --data data/road.yaml --cfg models/hub/yolov5x6_road.yaml --weights last_95_640_16.pt --hyp data/hyps/hyp.scratch.road.yaml --name x_ --workers 8 --cache"
   ]
  },
  {
   "cell_type": "markdown",
   "metadata": {},
   "source": [
    "- if CUDA error has cuased, change the pytorch version.\n",
    "- then execute it again."
   ]
  },
  {
   "cell_type": "code",
   "execution_count": null,
   "metadata": {},
   "outputs": [],
   "source": [
    "conda install pytorch==1.9.1 torchvision==0.10.1 torchaudio==0.9.1 cudatoolkit=11.3 -c pytorch -c conda-forge"
   ]
  },
  {
   "cell_type": "code",
   "execution_count": null,
   "metadata": {},
   "outputs": [],
   "source": []
  },
  {
   "cell_type": "markdown",
   "metadata": {},
   "source": [
    "# 3. Inference\n",
    "Maybe you need the trained weight files.    \n",
    "We trained and used 12 YOLOv5 P5 and P6 models, and you can get it from here.    \n",
    "(https://drive.google.com/file/d/1tGlmF7Om5aUfBh-Jsu1jw_JQ-AcAuv7P/view?usp=sharing)    "
   ]
  },
  {
   "cell_type": "code",
   "execution_count": 10,
   "metadata": {},
   "outputs": [],
   "source": [
    "# China_MotorBike\n",
    "python detect.py --weights weights/x6_15_5_640_3.pt  weights/x_640_.pt weights/x_nw_1024_6.pt weights/x_16.pt weights/x_us_3.pt weights/x_nw_1024_5.pt weights/x_15_5_640_.pt weights/x_15_5_640_4.pt weights/x_15_5_640_1024_.pt weights/x6_15_1_640_1024_2.pt weights/x6_15_5_640_1024_3.pt weights/x6_15_5_640_1024_4.pt --source ../RoadDamageDetector2022/RDD2022_all_countries/China_MotorBike/test/images/ --imgsz 640 --conf-thres 0.3 --iou-thres 0.999 --save-txt --save-conf --augment --agnostic-nms --nosave\n",
    "# Czech\n",
    "python detect.py --weights weights/x6_15_5_640_3.pt  weights/x_640_.pt weights/x_nw_1024_6.pt weights/x_16.pt weights/x_us_3.pt weights/x_nw_1024_5.pt weights/x_15_5_640_.pt weights/x_15_5_640_4.pt weights/x_15_5_640_1024_.pt weights/x6_15_1_640_1024_2.pt weights/x6_15_5_640_1024_3.pt weights/x6_15_5_640_1024_4.pt --source ../RoadDamageDetector2022/RDD2022_all_countries/Czech/test/images/ --imgsz 640 --conf-thres 0.3 --iou-thres 0.999 --save-txt --save-conf --augment --agnostic-nms --nosave\n",
    "# India\n",
    "python detect.py --weights weights/x6_15_5_640_3.pt  weights/x_640_.pt weights/x_nw_1024_6.pt weights/x_16.pt weights/x_us_3.pt weights/x_nw_1024_5.pt weights/x_15_5_640_.pt weights/x_15_5_640_4.pt weights/x_15_5_640_1024_.pt weights/x6_15_1_640_1024_2.pt weights/x6_15_5_640_1024_3.pt weights/x6_15_5_640_1024_4.pt --source ../RoadDamageDetector2022/RDD2022_all_countries/India/test/images/ --imgsz 768 --conf-thres 0.4 --iou-thres 0.999 --save-txt --save-conf --augment --agnostic-nms --nosave\n",
    "# Japan\n",
    "python detect.py --weights weights/x6_15_5_640_3.pt  weights/x_640_.pt weights/x_nw_1024_6.pt weights/x_16.pt weights/x_us_3.pt weights/x_nw_1024_5.pt weights/x_15_5_640_.pt weights/x_15_5_640_4.pt weights/x_15_5_640_1024_.pt weights/x6_15_1_640_1024_2.pt weights/x6_15_5_640_1024_3.pt weights/x6_15_5_640_1024_4.pt --source ../RoadDamageDetector2022/RDD2022_all_countries/Japan/test/images/ --imgsz 640 --conf-thres 0.4 --iou-thres 0.999 --save-txt --save-conf --augment --agnostic-nms --nosave\n",
    "# Norway\n",
    "python detect.py --weights weights/x6_15_5_640_3.pt  weights/x_640_.pt weights/x_nw_1024_6.pt weights/x_16.pt weights/x_us_3.pt weights/x_nw_1024_5.pt weights/x_15_5_640_.pt weights/x_15_5_640_4.pt weights/x_15_5_640_1024_.pt weights/x6_15_1_640_1024_2.pt weights/x6_15_5_640_1024_3.pt weights/x6_15_5_640_1024_4.pt --source ../RoadDamageDetector2022/RDD2022_all_countries/Norway/test/images/ --imgsz 1280 --conf-thres 0.4 --iou-thres 0.999 --save-txt --save-conf --augment --agnostic-nms --nosave\n",
    "# United_States\n",
    "python detect.py --weights weights/x6_15_5_640_3.pt  weights/x_640_.pt weights/x_nw_1024_6.pt weights/x_16.pt weights/x_us_3.pt weights/x_nw_1024_5.pt weights/x_15_5_640_.pt weights/x_15_5_640_4.pt weights/x_15_5_640_1024_.pt weights/x6_15_1_640_1024_2.pt weights/x6_15_5_640_1024_3.pt weights/x6_15_5_640_1024_4.pt --source ../RoadDamageDetector2022/RDD2022_all_countries/United_States/test/images/ --imgsz 640 --conf-thres 0.4 --iou-thres 0.999 --save-txt --save-conf --augment --agnostic-nms --nosave\n",
    "\n",
    "# or use bash file\n",
    "# chmod u+x submission_batch.sh\n",
    "# ./submission_batch.sh"
   ]
  },
  {
   "cell_type": "markdown",
   "metadata": {},
   "source": [
    "# 4. Merge\n",
    "Merging the final outputs is in the yolov5/merge.ipynb"
   ]
  }
 ],
 "metadata": {
  "accelerator": "GPU",
  "colab": {
   "collapsed_sections": [],
   "include_colab_link": true,
   "name": "YOLOv5 Tutorial",
   "provenance": [],
   "toc_visible": true
  },
  "kernelspec": {
   "display_name": "Python 3 (ipykernel)",
   "language": "python",
   "name": "python3"
  },
  "language_info": {
   "codemirror_mode": {
    "name": "ipython",
    "version": 3
   },
   "file_extension": ".py",
   "mimetype": "text/x-python",
   "name": "python",
   "nbconvert_exporter": "python",
   "pygments_lexer": "ipython3",
   "version": "3.9.7"
  }
 },
 "nbformat": 4,
 "nbformat_minor": 4
}
