{
 "cells": [
  {
   "cell_type": "code",
   "execution_count": 1,
   "id": "handled-cargo",
   "metadata": {},
   "outputs": [],
   "source": [
    "import cv2\n",
    "import numpy as np\n",
    "import os"
   ]
  },
  {
   "cell_type": "markdown",
   "id": "elder-planet",
   "metadata": {},
   "source": [
    "- about training set"
   ]
  },
  {
   "cell_type": "code",
   "execution_count": 36,
   "id": "neither-cradle",
   "metadata": {},
   "outputs": [],
   "source": [
    "norwayList = os.listdir('RDD2022_all_countries/Norway/train/images/')\n",
    "\n",
    "chinaList1 = os.listdir('RDD2022_all_countries/China_Drone/train/images/')\n",
    "chinaList2 = os.listdir('RDD2022_all_countries/China_MotorBike/train/images/')\n",
    "\n",
    "czechList = os.listdir('RDD2022_all_countries/Czech/train/images/')\n",
    "indiaList = os.listdir('RDD2022_all_countries/India/train/images/')\n",
    "japanList = os.listdir('RDD2022_all_countries/Japan/train/images/')\n",
    "usList = os.listdir('RDD2022_all_countries/United_States/train/images/')"
   ]
  },
  {
   "cell_type": "markdown",
   "id": "suburban-mirror",
   "metadata": {},
   "source": [
    "- about test set"
   ]
  },
  {
   "cell_type": "code",
   "execution_count": 27,
   "id": "proved-lying",
   "metadata": {},
   "outputs": [],
   "source": [
    "# norwayList = os.listdir('RDD2022_all_countries/Norway/test/images/')\n",
    "\n",
    "# #chinaList1 = os.listdir('RDD2022_all_countries/China_Drone/train/images/')\n",
    "# chinaList2 = os.listdir('RDD2022_all_countries/China_MotorBike/test/images/')\n",
    "\n",
    "# czechList = os.listdir('RDD2022_all_countries/Czech/test/images/')\n",
    "# indiaList = os.listdir('RDD2022_all_countries/India/test/images/')\n",
    "# japanList = os.listdir('RDD2022_all_countries/Japan/test/images/')\n",
    "# usList = os.listdir('RDD2022_all_countries/United_States/test/images/')"
   ]
  },
  {
   "cell_type": "code",
   "execution_count": 43,
   "id": "active-flooring",
   "metadata": {},
   "outputs": [
    {
     "ename": "KeyboardInterrupt",
     "evalue": "",
     "output_type": "error",
     "traceback": [
      "\u001b[0;31m--------------------------------------------------------------\u001b[0m",
      "\u001b[0;31mKeyboardInterrupt\u001b[0m            Traceback (most recent call last)",
      "\u001b[0;32m<ipython-input-43-8a72a4ea8a21>\u001b[0m in \u001b[0;36m<module>\u001b[0;34m\u001b[0m\n\u001b[1;32m     13\u001b[0m     \u001b[0;31m#src = cv2.imread('RDD2022_all_countries/Czech/train/images/' + nw)\u001b[0m\u001b[0;34m\u001b[0m\u001b[0;34m\u001b[0m\u001b[0;34m\u001b[0m\u001b[0m\n\u001b[1;32m     14\u001b[0m     \u001b[0;31m#src = cv2.imread('RDD2022_all_countries/India/train/images/' + nw)\u001b[0m\u001b[0;34m\u001b[0m\u001b[0;34m\u001b[0m\u001b[0;34m\u001b[0m\u001b[0m\n\u001b[0;32m---> 15\u001b[0;31m     \u001b[0msrc\u001b[0m \u001b[0;34m=\u001b[0m \u001b[0mcv2\u001b[0m\u001b[0;34m.\u001b[0m\u001b[0mimread\u001b[0m\u001b[0;34m(\u001b[0m\u001b[0;34m'RDD2022_all_countries/Japan/train/images/'\u001b[0m \u001b[0;34m+\u001b[0m \u001b[0mnw\u001b[0m\u001b[0;34m)\u001b[0m\u001b[0;34m\u001b[0m\u001b[0;34m\u001b[0m\u001b[0m\n\u001b[0m\u001b[1;32m     16\u001b[0m     \u001b[0;31m#src = cv2.imread('RDD2022_all_countries/United_States/train/images/' + nw)\u001b[0m\u001b[0;34m\u001b[0m\u001b[0;34m\u001b[0m\u001b[0;34m\u001b[0m\u001b[0m\n\u001b[1;32m     17\u001b[0m     \u001b[0mh\u001b[0m\u001b[0;34m,\u001b[0m \u001b[0mw\u001b[0m\u001b[0;34m,\u001b[0m \u001b[0mc\u001b[0m \u001b[0;34m=\u001b[0m \u001b[0msrc\u001b[0m\u001b[0;34m.\u001b[0m\u001b[0mshape\u001b[0m\u001b[0;34m\u001b[0m\u001b[0;34m\u001b[0m\u001b[0m\n",
      "\u001b[0;31mKeyboardInterrupt\u001b[0m: "
     ]
    }
   ],
   "source": [
    "cnt = 1\n",
    "cnt_540 = 0\n",
    "cnt_600 = 0\n",
    "cnt_1024 = 0\n",
    "cnt_1080 = 0\n",
    "# for norway\n",
    "#for nw in norwayList:\n",
    "\n",
    "for nw in japanList:\n",
    "    if cnt % 1000 == 0:\n",
    "        print(cnt)\n",
    "    #src = cv2.imread('RDD2022_all_countries/Norway/test/images/' + nw)\n",
    "    #src = cv2.imread('RDD2022_all_countries/China_Drone/train/images/' + nw)\n",
    "    #src = cv2.imread('RDD2022_all_countries/China_MotorBike/train/images/' + nw)\n",
    "    #src = cv2.imread('RDD2022_all_countries/Czech/train/images/' + nw)\n",
    "    #src = cv2.imread('RDD2022_all_countries/India/train/images/' + nw)\n",
    "    src = cv2.imread('RDD2022_all_countries/Japan/train/images/' + nw)\n",
    "    #src = cv2.imread('RDD2022_all_countries/United_States/train/images/' + nw)\n",
    "    h, w, c = src.shape\n",
    "    cnt += 1\n",
    "\n",
    "# for norway\n",
    "# if (h == 2035 and w == 4040) or (h == 2041 and w == 3643) or (h == 2044 and w == 3650):\n",
    "#    print(src.shape)\n",
    "\n",
    "# for Japan\n",
    "    if (h == 540 and w == 540):\n",
    "        cnt_540 += 1\n",
    "    \n",
    "    elif (h == 600 and w == 600):\n",
    "        cnt_600 += 1\n",
    "        \n",
    "    elif (h == 1024 and w == 1024):\n",
    "        cnt_1024 += 1\n",
    "\n",
    "    elif (h == 1080 and w == 1080):\n",
    "        cnt_1080 += 1\n",
    "        \n",
    "    else:\n",
    "        print(nw)\n",
    "        print(h, w)"
   ]
  },
  {
   "cell_type": "code",
   "execution_count": 39,
   "id": "portuguese-junior",
   "metadata": {},
   "outputs": [
    {
     "data": {
      "text/plain": [
       "124"
      ]
     },
     "execution_count": 39,
     "metadata": {},
     "output_type": "execute_result"
    }
   ],
   "source": [
    "cnt_540"
   ]
  },
  {
   "cell_type": "code",
   "execution_count": 40,
   "id": "gross-cambodia",
   "metadata": {},
   "outputs": [
    {
     "data": {
      "text/plain": [
       "10187"
      ]
     },
     "execution_count": 40,
     "metadata": {},
     "output_type": "execute_result"
    }
   ],
   "source": [
    "cnt_600"
   ]
  },
  {
   "cell_type": "code",
   "execution_count": 41,
   "id": "speaking-lighting",
   "metadata": {},
   "outputs": [
    {
     "data": {
      "text/plain": [
       "147"
      ]
     },
     "execution_count": 41,
     "metadata": {},
     "output_type": "execute_result"
    }
   ],
   "source": [
    "cnt_1024"
   ]
  },
  {
   "cell_type": "code",
   "execution_count": 42,
   "id": "intended-merchandise",
   "metadata": {},
   "outputs": [
    {
     "data": {
      "text/plain": [
       "48"
      ]
     },
     "execution_count": 42,
     "metadata": {},
     "output_type": "execute_result"
    }
   ],
   "source": [
    "cnt_1080"
   ]
  }
 ],
 "metadata": {
  "kernelspec": {
   "display_name": "Python 3 (ipykernel)",
   "language": "python",
   "name": "python3"
  },
  "language_info": {
   "codemirror_mode": {
    "name": "ipython",
    "version": 3
   },
   "file_extension": ".py",
   "mimetype": "text/x-python",
   "name": "python",
   "nbconvert_exporter": "python",
   "pygments_lexer": "ipython3",
   "version": "3.9.7"
  }
 },
 "nbformat": 4,
 "nbformat_minor": 5
}
