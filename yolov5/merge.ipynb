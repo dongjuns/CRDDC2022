{
 "cells": [
  {
   "cell_type": "code",
   "execution_count": 6,
   "id": "7b83aef5-e43c-42b3-bdcc-4af3de8f4cf0",
   "metadata": {},
   "outputs": [],
   "source": [
    "from PIL import Image"
   ]
  },
  {
   "cell_type": "markdown",
   "id": "9fad6269-7c14-44a6-b053-2e8d0be8fde2",
   "metadata": {},
   "source": [
    "- Set the detect output directory name into {targetDirectory}"
   ]
  },
  {
   "cell_type": "code",
   "execution_count": 66,
   "id": "5af17e5e-0f58-4bb6-ad06-3ad5cb95e9cd",
   "metadata": {},
   "outputs": [],
   "source": [
    "targetDirectory = 'exp185_copy'"
   ]
  },
  {
   "cell_type": "markdown",
   "id": "9fb6263a-747e-4b2b-9ae4-6aed9a67eb1b",
   "metadata": {},
   "source": [
    "- Set the {testImgList}, if targetDirectory is output of Japan, testImgList should be glob('../CRDDC2022/RoadDamageDetector2022/RDD2022_all_countries/Japan/test/images/*.jpg')"
   ]
  },
  {
   "cell_type": "code",
   "execution_count": 77,
   "id": "498a7def-a967-4b35-94dd-0cf8bf9fff80",
   "metadata": {},
   "outputs": [],
   "source": [
    "from glob import glob\n",
    "\n",
    "labelTxtList = glob(f'./runs/detect/{targetDirectory}/labels/*.txt')\n",
    "#testImgList = glob('../RoadDamageDetector2022/RDD_test/*.jpg')\n",
    "\n",
    "#testImgList = glob('../CRDDC2022/RoadDamageDetector2022/RDD2022_all_countries/China_MotorBike/test/images/*.jpg')\n",
    "#testImgList = glob('../CRDDC2022/RoadDamageDetector2022/RDD2022_all_countries/Czech/test/images/*.jpg')\n",
    "#testImgList = glob('../CRDDC2022/RoadDamageDetector2022/RDD2022_all_countries/India/test/images/*.jpg')\n",
    "#testImgList = glob('../CRDDC2022/RoadDamageDetector2022/RDD2022_all_countries/Japan/test/images/*.jpg')\n",
    "#testImgList = glob('../CRDDC2022/RoadDamageDetector2022/RDD2022_all_countries/Norway/test/images/*.jpg')\n",
    "#testImgList = glob('../CRDDC2022/RoadDamageDetector2022/RDD2022_all_countries/United_States/test/images/*.jpg')"
   ]
  },
  {
   "cell_type": "code",
   "execution_count": 81,
   "id": "06a15f1c-9aff-48eb-b9a2-8cb4d16df0c4",
   "metadata": {},
   "outputs": [],
   "source": [
    "def yolo2real(txtFileName):\n",
    "    image1 = Image.open('../RoadDamageDetector2022/RDD_test/' + txtFileName.split('/')[-1].replace('.txt', '.jpg'))\n",
    "    width, height = image1.size\n",
    "    with open(txtFileName, 'r') as f:\n",
    "        lines = f.readlines()\n",
    "        newLines = []\n",
    "        lines.reverse()\n",
    "        for line in lines:\n",
    "            lineSpt = line.split()\n",
    "            rdd_cls = int(lineSpt[0]) + 1\n",
    "            x_c = float(lineSpt[1])\n",
    "            y_c = float(lineSpt[2])\n",
    "            x_w = float(lineSpt[3])\n",
    "            y_h = float(lineSpt[4])\n",
    "            \n",
    "            x0 = int((x_c - x_w/2) * width)\n",
    "            if x0 < 0:\n",
    "                x0 = 0\n",
    "            y0 = int((y_c - y_h/2) * height)\n",
    "            if y0 < 0:\n",
    "                y0 = 0\n",
    "            x1 = int((x_c + x_w/2) * width)\n",
    "            if x1 > width:\n",
    "                x1 = width\n",
    "            y1 = int((y_c + y_h/2) * height)\n",
    "            if y1 > height:\n",
    "                y1 = height\n",
    "\n",
    "            newLines.append(f'{rdd_cls} {x0} {y0} {x1} {y1} ')\n",
    "            \n",
    "    f.close()\n",
    "    with open(f'./runs/detect/{targetDirectory}/labels/'+txtFileName.split('/')[-1], 'w+') as f2:\n",
    "        f2.writelines(newLines)\n",
    "    \n",
    "    f2.close()"
   ]
  },
  {
   "cell_type": "code",
   "execution_count": 82,
   "id": "e3bc2712-76c7-45bd-9ce0-af4092aef32d",
   "metadata": {},
   "outputs": [],
   "source": [
    "for labelTxt in labelTxtList:\n",
    "    yolo2real(labelTxt)"
   ]
  },
  {
   "cell_type": "code",
   "execution_count": 83,
   "id": "39f9ef45-951e-460f-b331-8952bc23082c",
   "metadata": {},
   "outputs": [],
   "source": [
    "submissionTxtList = glob(f'./runs/detect/{targetDirectory}/labels/*.txt')"
   ]
  },
  {
   "cell_type": "code",
   "execution_count": 84,
   "id": "687f6144-95d0-4b06-a669-0744d26d94ee",
   "metadata": {},
   "outputs": [],
   "source": [
    "txtList = []\n",
    "for txtFile in submissionTxtList:\n",
    "    txtList.append(txtFile.split('/')[-1].replace('.txt', '.jpg'))"
   ]
  },
  {
   "cell_type": "code",
   "execution_count": 85,
   "id": "494b8806-fb4c-4736-bccf-1c5957df6472",
   "metadata": {},
   "outputs": [],
   "source": [
    "imgList = []\n",
    "for imgFile in testImgList:\n",
    "    imgList.append(imgFile.split('/')[-1])"
   ]
  },
  {
   "cell_type": "code",
   "execution_count": 86,
   "id": "de608dcc-164d-4ae4-b53b-86e65bcf46b9",
   "metadata": {},
   "outputs": [],
   "source": [
    "addList = []\n",
    "for img in imgList:\n",
    "    if img not in txtList:\n",
    "        addList.append(img)"
   ]
  },
  {
   "cell_type": "code",
   "execution_count": 87,
   "id": "c20c359e-b4a1-4078-8237-53d20dc7b630",
   "metadata": {},
   "outputs": [],
   "source": [
    "file = open(\"submission.txt\", \"w\")\n",
    "\n",
    "#for txtFile in labelTxtList:\n",
    "for txtFile in submissionTxtList:\n",
    "    with open(txtFile, 'r') as f:\n",
    "        lines = f.readlines()\n",
    "        tempLine = ''\n",
    "        for line in lines:\n",
    "            line = line.strip('\\n')\n",
    "            tempLine += line\n",
    "        \n",
    "        finalLine = txtFile.split('/')[-1].replace(\"txt\", \"jpg,\") + tempLine + (\"\\n\")\n",
    "        file.writelines(finalLine)\n",
    "\n",
    "for ad in addList:\n",
    "    file.writelines(ad + \",\\n\")\n",
    "file.close()"
   ]
  },
  {
   "cell_type": "markdown",
   "id": "c8ac5d20-4a13-446b-91fc-0ea2e6ce6c2b",
   "metadata": {},
   "source": [
    "- then download the submission.txt and submit it on the judge server."
   ]
  }
 ],
 "metadata": {
  "kernelspec": {
   "display_name": "Python 3 (ipykernel)",
   "language": "python",
   "name": "python3"
  },
  "language_info": {
   "codemirror_mode": {
    "name": "ipython",
    "version": 3
   },
   "file_extension": ".py",
   "mimetype": "text/x-python",
   "name": "python",
   "nbconvert_exporter": "python",
   "pygments_lexer": "ipython3",
   "version": "3.9.7"
  }
 },
 "nbformat": 4,
 "nbformat_minor": 5
}
